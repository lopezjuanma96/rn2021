{
 "cells": [
  {
   "cell_type": "markdown",
   "metadata": {},
   "source": [
    "# Redes Neuronales 2021\n",
    "## Práctico 2\n",
    "\n",
    "Alumno: Juan Manuel López\n",
    "Identificación: 39.764.711"
   ]
  },
  {
   "cell_type": "code",
   "execution_count": 49,
   "metadata": {},
   "outputs": [],
   "source": [
    "#imports and fundamentals\n",
    "import numpy as np\n",
    "import matplotlib.pyplot as plt\n",
    "\n",
    "def rk4(f,x,t,dt,p):\n",
    "    \"\"\"\n",
    "    p[0] - a\n",
    "    p[1] - b\n",
    "    p[2] - c\n",
    "    p[3] - d\n",
    "    p[4] - I(t)\n",
    "    \"\"\"\n",
    "    k1 = f(x,t,p)\n",
    "    k2 = f(x+0.5*dt*k1,t+0.5*dt,p)\n",
    "    k3 = f(x+0.5*dt*k2,t+0.5*dt,p)\n",
    "    k4 = f(x+dt*k3,t+dt,p)\n",
    "    return x+dt*(k1+2.0*k2+2.0*k3+k4)/6.0\n",
    "\n",
    "def integrador_ode(met, f, x0, t0, tf, tn, p, condition):\n",
    "    \"\"\"\n",
    "    p[0] - a\n",
    "    p[1] - b\n",
    "    p[2] - c\n",
    "    p[3] - d\n",
    "    p[4] - I(t)\n",
    "    \"\"\"\n",
    "    t = np.linspace(t0, tf, tn)\n",
    "    dt = t[1] - t[0]\n",
    "    \n",
    "    if type(x0) == list:\n",
    "        xn = len(x0)\n",
    "    elif type(x0) == np.ndarray:\n",
    "        xn = x0.shape[0]\n",
    "    else:\n",
    "        raise ValueError(\"Invalid type of x0\")\n",
    "    assert len(f) == xn, \"The number of functions and the shape of the initial state should coincide.\"\n",
    "    x = np.zeros((xn, tn))\n",
    "    x[:, 0] = np.array([x0_val for x0_val in x0])\n",
    "    \n",
    "    #print(t) #checked\n",
    "    #print(x) #checked\n",
    "    \n",
    "    for tindex in range(1, tn):\n",
    "        #print(t[tindex-1]) #checked\n",
    "        #print(x[:, tindex-1]) #chekced\n",
    "        \n",
    "        for findex, func in enumerate(f):\n",
    "            #print(findex, met(func, x[:, tindex-1], t[tindex-1], dt, p))\n",
    "            x[findex, tindex] = met(func, x[:, tindex-1], t[tindex-1], dt, p)\n",
    "        x[:, tindex] = condition(x[:, tindex], p)\n",
    "        print(x[:, tindex])\n",
    "\n",
    "    return t, x"
   ]
  },
  {
   "cell_type": "code",
   "execution_count": 50,
   "metadata": {},
   "outputs": [],
   "source": [
    "#functions\n",
    "def v(x, t, p):\n",
    "    \"\"\"\n",
    "    p[0] - a\n",
    "    p[1] - b\n",
    "    p[2] - c\n",
    "    p[3] - d\n",
    "    p[4] - I(t)\n",
    "    \"\"\"\n",
    "    #print(\"v: \", 0.04*x[0]**2 + 5*x[0] + 140 - x[1] + p[4](t))\n",
    "    return 0.04*x[0]**2 + 5*x[0] + 140 - x[1] + p[4](t)\n",
    "\n",
    "def u(x, t, p):\n",
    "    \"\"\"\n",
    "    p[0] - a\n",
    "    p[1] - b\n",
    "    p[2] - c\n",
    "    p[3] - d\n",
    "    p[4] - I(t)\n",
    "    \"\"\"\n",
    "    #print(\"u: \", p[0]*(p[1]*x[0] - x[1]))\n",
    "    return p[0]*(p[1]*x[0] - x[1])"
   ]
  },
  {
   "cell_type": "code",
   "execution_count": 51,
   "metadata": {},
   "outputs": [],
   "source": [
    "#condition\n",
    "def condition(x, p):\n",
    "    \"\"\"\n",
    "    p[0] - a\n",
    "    p[1] - b\n",
    "    p[2] - c\n",
    "    p[3] - d\n",
    "    p[4] - I(t)\n",
    "    \"\"\"\n",
    "    if x[0] >= 30:\n",
    "        return np.array([p[2], x[1] + p[3]])\n",
    "    else:\n",
    "        return x"
   ]
  },
  {
   "cell_type": "code",
   "execution_count": 52,
   "metadata": {},
   "outputs": [
    {
     "name": "stdout",
     "output_type": "stream",
     "text": [
      "v:  139.0\n",
      "v:  326.3025\n",
      "v:  731.4858037656252\n",
      "v:  6952.686418637678\n"
     ]
    },
    {
     "ename": "ValueError",
     "evalue": "setting an array element with a sequence.",
     "output_type": "error",
     "traceback": [
      "\u001b[1;31m---------------------------------------------------------------------------\u001b[0m",
      "\u001b[1;31mTypeError\u001b[0m                                 Traceback (most recent call last)",
      "\u001b[1;31mTypeError\u001b[0m: only size-1 arrays can be converted to Python scalars",
      "\nThe above exception was the direct cause of the following exception:\n",
      "\u001b[1;31mValueError\u001b[0m                                Traceback (most recent call last)",
      "\u001b[1;32m<ipython-input-52-85a24d79a192>\u001b[0m in \u001b[0;36m<module>\u001b[1;34m\u001b[0m\n\u001b[0;32m     11\u001b[0m \u001b[0md\u001b[0m \u001b[1;33m=\u001b[0m \u001b[1;36m1\u001b[0m\u001b[1;33m\u001b[0m\u001b[1;33m\u001b[0m\u001b[0m\n\u001b[0;32m     12\u001b[0m \u001b[1;33m\u001b[0m\u001b[0m\n\u001b[1;32m---> 13\u001b[1;33m t_array, x_array = integrador_ode(met = rk4, \n\u001b[0m\u001b[0;32m     14\u001b[0m                                   \u001b[0mf\u001b[0m \u001b[1;33m=\u001b[0m \u001b[1;33m[\u001b[0m\u001b[0mv\u001b[0m\u001b[1;33m,\u001b[0m \u001b[0mu\u001b[0m\u001b[1;33m]\u001b[0m\u001b[1;33m,\u001b[0m\u001b[1;33m\u001b[0m\u001b[1;33m\u001b[0m\u001b[0m\n\u001b[0;32m     15\u001b[0m                                   \u001b[0mx0\u001b[0m \u001b[1;33m=\u001b[0m \u001b[1;33m[\u001b[0m\u001b[1;36m0\u001b[0m\u001b[1;33m,\u001b[0m \u001b[0md\u001b[0m\u001b[1;33m]\u001b[0m\u001b[1;33m,\u001b[0m\u001b[1;33m\u001b[0m\u001b[1;33m\u001b[0m\u001b[0m\n",
      "\u001b[1;32m<ipython-input-49-7dae4c3178b6>\u001b[0m in \u001b[0;36mintegrador_ode\u001b[1;34m(met, f, x0, t0, tf, tn, p, condition)\u001b[0m\n\u001b[0;32m     47\u001b[0m         \u001b[1;32mfor\u001b[0m \u001b[0mfindex\u001b[0m\u001b[1;33m,\u001b[0m \u001b[0mfunc\u001b[0m \u001b[1;32min\u001b[0m \u001b[0menumerate\u001b[0m\u001b[1;33m(\u001b[0m\u001b[0mf\u001b[0m\u001b[1;33m)\u001b[0m\u001b[1;33m:\u001b[0m\u001b[1;33m\u001b[0m\u001b[1;33m\u001b[0m\u001b[0m\n\u001b[0;32m     48\u001b[0m             \u001b[1;31m#print(findex, met(func, x[:, tindex-1], t[tindex-1], dt, p))\u001b[0m\u001b[1;33m\u001b[0m\u001b[1;33m\u001b[0m\u001b[1;33m\u001b[0m\u001b[0m\n\u001b[1;32m---> 49\u001b[1;33m             \u001b[0mx\u001b[0m\u001b[1;33m[\u001b[0m\u001b[0mfindex\u001b[0m\u001b[1;33m,\u001b[0m \u001b[0mtindex\u001b[0m\u001b[1;33m]\u001b[0m \u001b[1;33m=\u001b[0m \u001b[0mmet\u001b[0m\u001b[1;33m(\u001b[0m\u001b[0mfunc\u001b[0m\u001b[1;33m,\u001b[0m \u001b[0mx\u001b[0m\u001b[1;33m[\u001b[0m\u001b[1;33m:\u001b[0m\u001b[1;33m,\u001b[0m \u001b[0mtindex\u001b[0m\u001b[1;33m-\u001b[0m\u001b[1;36m1\u001b[0m\u001b[1;33m]\u001b[0m\u001b[1;33m,\u001b[0m \u001b[0mt\u001b[0m\u001b[1;33m[\u001b[0m\u001b[0mtindex\u001b[0m\u001b[1;33m-\u001b[0m\u001b[1;36m1\u001b[0m\u001b[1;33m]\u001b[0m\u001b[1;33m,\u001b[0m \u001b[0mdt\u001b[0m\u001b[1;33m,\u001b[0m \u001b[0mp\u001b[0m\u001b[1;33m)\u001b[0m\u001b[1;33m\u001b[0m\u001b[1;33m\u001b[0m\u001b[0m\n\u001b[0m\u001b[0;32m     50\u001b[0m         \u001b[0mx\u001b[0m\u001b[1;33m[\u001b[0m\u001b[1;33m:\u001b[0m\u001b[1;33m,\u001b[0m \u001b[0mtindex\u001b[0m\u001b[1;33m]\u001b[0m \u001b[1;33m=\u001b[0m \u001b[0mcondition\u001b[0m\u001b[1;33m(\u001b[0m\u001b[0mx\u001b[0m\u001b[1;33m[\u001b[0m\u001b[1;33m:\u001b[0m\u001b[1;33m,\u001b[0m \u001b[0mtindex\u001b[0m\u001b[1;33m]\u001b[0m\u001b[1;33m,\u001b[0m \u001b[0mp\u001b[0m\u001b[1;33m)\u001b[0m\u001b[1;33m\u001b[0m\u001b[1;33m\u001b[0m\u001b[0m\n\u001b[0;32m     51\u001b[0m         \u001b[0mprint\u001b[0m\u001b[1;33m(\u001b[0m\u001b[0mx\u001b[0m\u001b[1;33m[\u001b[0m\u001b[1;33m:\u001b[0m\u001b[1;33m,\u001b[0m \u001b[0mtindex\u001b[0m\u001b[1;33m]\u001b[0m\u001b[1;33m)\u001b[0m\u001b[1;33m\u001b[0m\u001b[1;33m\u001b[0m\u001b[0m\n",
      "\u001b[1;31mValueError\u001b[0m: setting an array element with a sequence."
     ]
    }
   ],
   "source": [
    "#input\n",
    "def I(t, thr, out):\n",
    "    if t>thr:\n",
    "        return out\n",
    "    else:\n",
    "        return 0\n",
    "    \n",
    "a = 1\n",
    "b = 1\n",
    "c = 1\n",
    "d = 1\n",
    "\n",
    "t_array, x_array = integrador_ode(met = rk4, \n",
    "                                  f = [v, u], \n",
    "                                  x0 = [0, d], \n",
    "                                  t0 = 0, tf = 500, tn = 1001, \n",
    "                                  p = [a,\n",
    "                                       b,\n",
    "                                       c,\n",
    "                                       d,\n",
    "                                       lambda t: I(t, 10, 10)\n",
    "                                      ],\n",
    "                                  condition = condition\n",
    "                                 )"
   ]
  },
  {
   "cell_type": "code",
   "execution_count": null,
   "metadata": {},
   "outputs": [],
   "source": []
  },
  {
   "cell_type": "code",
   "execution_count": null,
   "metadata": {},
   "outputs": [],
   "source": []
  }
 ],
 "metadata": {
  "kernelspec": {
   "display_name": "Python 3",
   "language": "python",
   "name": "python3"
  },
  "language_info": {
   "codemirror_mode": {
    "name": "ipython",
    "version": 3
   },
   "file_extension": ".py",
   "mimetype": "text/x-python",
   "name": "python",
   "nbconvert_exporter": "python",
   "pygments_lexer": "ipython3",
   "version": "3.8.3"
  }
 },
 "nbformat": 4,
 "nbformat_minor": 2
}
